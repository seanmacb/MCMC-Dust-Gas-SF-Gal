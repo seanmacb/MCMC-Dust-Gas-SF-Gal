{
 "cells": [
  {
   "cell_type": "code",
   "execution_count": 1,
   "metadata": {},
   "outputs": [
    {
     "name": "stderr",
     "output_type": "stream",
     "text": [
      "/Users/sean/anaconda3/lib/python3.6/site-packages/h5py/__init__.py:36: FutureWarning: Conversion of the second argument of issubdtype from `float` to `np.floating` is deprecated. In future, it will be treated as `np.float64 == np.dtype(float).type`.\n",
      "  from ._conv import register_converters as _register_converters\n"
     ]
    }
   ],
   "source": [
    "import emcee\n",
    "import pandas as pd\n",
    "import numpy as np\n",
    "import matplotlib.pyplot as plt\n",
    "import corner\n",
    "BDecLabel = \"Log(H\\u03B1/H\\u03B2)\"\n",
    "LCO10Label = \"Log(L CO $_{1-0}$)\"\n",
    "LCO21Label = \"Log(L CO $_{2-1}$)\"\n",
    "MDustLabel = \"Log(M$_{Dust}$/M$_*$)\"\n",
    "MH2Label = \"Log(M H$_2$/M$_*$)\"\n",
    "StarMassLabel = \"Log(M$_{Star}$/M$_*$)\"\n",
    "SFRLabel = \"SFR\"\n",
    "GasFracLabel = \"GasFrac\""
   ]
  },
  {
   "cell_type": "markdown",
   "metadata": {},
   "source": [
    "## Here's the deal!\n",
    "\n",
    "MCMC Below is now working (dope!)\n",
    "\n",
    "That means don't mess with anything below the following 3 cells."
   ]
  },
  {
   "cell_type": "code",
   "execution_count": 2,
   "metadata": {},
   "outputs": [
    {
     "name": "stdout",
     "output_type": "stream",
     "text": [
      "117 Members in JINGLE\n",
      "20\n",
      "115 Members in JINGLE\n",
      "126 Members in xCOLD\n"
     ]
    }
   ],
   "source": [
    "# file io for x and y here\n",
    "\n",
    "# M DUST\n",
    "dfJingle = pd.read_csv(\"JINGLEMASTERDEC19.csv\")\n",
    "print(str(len(dfJingle[\"AGNCLASS\"]))+\" Members in JINGLE\")\n",
    "\n",
    "delindex = []\n",
    "\n",
    "for i in range(len(dfJingle[\"N2HA\"])):\n",
    "    if np.asarray(dfJingle[\"AGNCLASS\"])[i]!=1: # agn type filter\n",
    "        delindex.append(i)\n",
    "        print(i)\n",
    "    elif np.asarray(dfJingle[\"Z\"])[i]>0.06: # redshift filter\n",
    "        print(i)\n",
    "        delindex.append(i)\n",
    "    elif np.asarray(dfJingle[\"HA SNR\"][i])<5 or np.asarray(dfJingle[\"HB SNR\"][i])<5: # removing bad SNR galaxies\n",
    "        print(i)\n",
    "        delindex.append(i)\n",
    "\n",
    "dfJingle = dfJingle.drop(np.asarray(delindex)) # removing non SFing galaxies\n",
    "dfJingle = dfJingle.drop([44]) # removing one nan that wouldn't come out of the dataset for whatever reason\n",
    "print(str(len(dfJingle[\"AGNCLASS\"]))+\" Members in JINGLE\")\n",
    "\n",
    "\n",
    "# LCO and MH2\n",
    "dfXCold = pd.read_csv(\"xColdFilt.csv\")\n",
    "print(str(len(dfXCold[\"AGNCLASS\"]))+\" Members in xCOLD\")\n",
    "\n",
    "# STARMASS\n",
    "# mpamaster = pd.read_csv(\"MPAMaster.csv\")\n",
    "# print(str(len(mpamaster[\"Z\"]))+\" Members in MPA sample\")\n",
    "# for i in range(len(mpamaster[\"GALAXY CLASS\"])):\n",
    "#     if mpamaster[\"GALAXY CLASS\"][i]!=1:\n",
    "#         print(mpamaster[\"GALAXY CLASS\"][i]) # This ensures no non-SFing galaxies\n",
    "\n",
    "delindex = []\n",
    "for i in range(len(dfXCold)):\n",
    "    if dfXCold[\"LOGMH2\"][i]<=5:\n",
    "        delindex.append(i)\n",
    "dfXCold = dfXCold.drop(delindex) # removing 0's in log MH2\n",
    "\n",
    "# print(dfJingle.columns.values)\n",
    "# print(dfXCold.columns.values)\n",
    "# print(mpamaster.columns.values)"
   ]
  },
  {
   "cell_type": "code",
   "execution_count": 11,
   "metadata": {},
   "outputs": [
    {
     "data": {
      "image/png": "[encoded data removed]",
      "text/plain": [
       "<Figure size 432x288 with 1 Axes>"
      ]
     },
     "metadata": {},
     "output_type": "display_data"
    }
   ],
   "source": [
    "x = np.asarray(dfXCold[\"BALMER\"]) # set x variable here\n",
    "y = np.asarray(dfXCold[\"LOGLCO\"]) # set y variable here\n",
    "\n",
    "xerr = np.asanyarray(dfXCold[\"BALMER_ERR\"]) # set x err here\n",
    "yerr = np.asanyarray(dfXCold[\"LOGLCO_ERR\"]) # set y err here\n",
    "\n",
    "# Z = np.asarray(mpamaster[\"Z\"])\n",
    "\n",
    "xlab = BDecLabel # set x label here\n",
    "ylab = LCO10Label # set y label here\n",
    "\n",
    "fname = \"BDECvsLCO10\"\n",
    "\n",
    "plt.scatter(x,y)\n",
    "plt.grid()\n",
    "# plt.ylim(7.8,10.1)\n",
    "# plt.colorbar()\n",
    "plt.xlabel(xlab)\n",
    "plt.ylabel(ylab)\n",
    "plt.show()"
   ]
  },
  {
   "cell_type": "code",
   "execution_count": 6,
   "metadata": {},
   "outputs": [],
   "source": [
    "m_guess = 2.59 # make guesses here\n",
    "b_guess = 6.16\n",
    "logf_guess = -1\n",
    "stepnum = 10**6 # set stupnumber and burnin below\n",
    "burnin = int(0.05*stepnum)\n",
    "\n",
    "m_prior_range = [0,25] # set ranges here\n",
    "b_prior_range = [2,25]\n",
    "lnf_prior_range = [-5,5]"
   ]
  },
  {
   "cell_type": "markdown",
   "metadata": {},
   "source": [
    "### Just run everything below here"
   ]
  },
  {
   "cell_type": "code",
   "execution_count": 7,
   "metadata": {},
   "outputs": [],
   "source": [
    "min_y = 7\n",
    "max_y = 9\n",
    "min_x = 0.45\n",
    "max_x = 1\n",
    "\n",
    "N = len(x)\n",
    "\n",
    "mctitle = xlab+\" vs. \"+ylab +\" MCMC fit with \"+str(stepnum)+\" steps\"\n",
    "\n",
    "S = np.zeros((N,2,2))\n",
    "for l in range(N):\n",
    "    S[l][0][0] = xerr[l]\n",
    "    S[l][1][1] = yerr[l]\n",
    "\n",
    "def plot_samples_full(sampler, ndim, l): # plots the traceplot\n",
    "    fig, axes = plt.subplots(ndim, figsize=(10, 10), sharex=True)\n",
    "    samples = sampler.get_chain()\n",
    "    labels = l\n",
    "    for i in range(ndim):\n",
    "        ax = axes[i]\n",
    "        ax.plot(samples[:, :, i], \"k\", alpha=0.3)\n",
    "        ax.set_xlim(0, burnin+stepnum)\n",
    "#         ax.grid()\n",
    "        ax.axvline(burnin,ls=\"--\",c=\"black\")\n",
    "        ax.set_ylabel(labels[i])\n",
    "    axes[-1].set_xlabel(\"step number\");\n",
    "    plt.savefig(fname + '_chains.png', dpi=100)\n",
    "    plt.show()\n",
    "\n",
    "def plot_corner_full2(samples_input, labels): # plots the corner plot\n",
    "#     samples_input[2,:] = np.exp(samples_input[2,:])\n",
    "    fig, ax = plt.subplots(nrows = 3, ncols = 3, squeeze=False, figsize=(6,6))\n",
    "    corner.corner(samples_input,\n",
    "                  labels=labels,\n",
    "                  truths=(np.median(samples_input[:,0]),\n",
    "                  np.median(samples_input[:, 1]),\n",
    "                  np.median(np.log10(samples_input[:, 2]))),\n",
    "                  truth_color=\"k\",\n",
    "                  quantiles=[0.16, 0.84], show_titles=True, title_kwargs={\"fontsize\": 12},fig=fig)\n",
    "    fig.set_size_inches(w=10,h=10)\n",
    "    plt.savefig(fname+\"_corner.png\", dpi=100)\n",
    "    plt.show()\n",
    "\n",
    "def plot_results(samples2, x, y , xerr, yerr): # plots the scatter plot with 100 random lines from the chain\n",
    "    fig, ax = plt.subplots(nrows = 1, ncols = 1, squeeze=False, figsize=(6,6))\n",
    "    # plot the data\n",
    "    ax[0,0].errorbar(x, y, xerr = xerr, yerr = yerr, fmt = 'o',c=\"red\")\n",
    "    x = np.linspace(min_x, max_x, 200)\n",
    "    # plot 100 random draws from the converged chain with intrinsic scatter\n",
    "    for params in samples2[np.random.randint(len(samples2), size=100)]:\n",
    "        h1, h2, lnh = params\n",
    "        ax[0,0].plot(x, h1*x + h2, color = 'b', alpha = 0.1)\n",
    "    plt.xlabel(xlab)\n",
    "    plt.ylabel(ylab)\n",
    "    plt.title(mctitle)\n",
    "    plt.grid()\n",
    "    plt.xlim(min_x,max_x)\n",
    "    plt.ylim(min_y,max_y)\n",
    "#     plt.legend()\n",
    "    fig.set_size_inches(w=10,h=10)\n",
    "    plt.savefig(fname+\".png\",dpi=100)\n",
    "    plt.show()\n",
    "    \n",
    "\n",
    "# Stuff below here is straight line specific\n",
    "\n",
    "def straight_line(x, params):\n",
    "    m, b = params\n",
    "    return (m*x) + b\n",
    "\n",
    "\n",
    "def straight_line_params2(params):\n",
    "    m, b, lnf = params\n",
    "    # uniform flat priors on m and b between these ranges (can vary these)\n",
    "    if  m_prior_range[0] < m < m_prior_range[1] and b_prior_range[0] < b < b_prior_range[1] and lnf_prior_range[0] < lnf < lnf_prior_range[1]:\n",
    "        return 0\n",
    "    # if the params drawn outside the above ranges we make it very unlikely\n",
    "    return -np.inf\n",
    "\n",
    "def log_likelihood_straight_line2(params):\n",
    "    # log likelihood explained in: https://dfm.io/posts/fitting-a-plane/ (Eq 14-16)\n",
    "    m, b, lnf = params\n",
    "    params2 = m, b\n",
    "    v = np.array([-m, 1.0])\n",
    "    model = straight_line(x, params2)\n",
    "    deltaN = y - model\n",
    "    sigma_sq = np.square(xerr*m) + np.square(yerr) + np.exp(2*lnf)\n",
    "    log_likelihood = -0.5 * np.sum((np.square(deltaN)/sigma_sq) + np.log(sigma_sq)) # this line\n",
    "    #~~~~~~~~~~~~~~~~~~~~~~~~~~~~~~~~~~~~~~~~~~~~~~~~~~~~~~~~~~~~~~~~~~~~~~~~~~~\n",
    "    return log_likelihood + straight_line_params2(params)"
   ]
  },
  {
   "cell_type": "code",
   "execution_count": 8,
   "metadata": {},
   "outputs": [
    {
     "name": "stderr",
     "output_type": "stream",
     "text": [
      "/Users/sean/anaconda3/lib/python3.6/site-packages/emcee-3.0.0-py3.6.egg/emcee/ensemble.py:258: RuntimeWarning: Initial state is not linearly independent and it will not allow a full exploration of parameter space\n",
      "  0%|          | 3621/1050000 [00:14<1:11:31, 243.84it/s]\n"
     ]
    },
    {
     "ename": "KeyboardInterrupt",
     "evalue": "",
     "output_type": "error",
     "traceback": [
      "\u001b[0;31m---------------------------------------------------------------------------\u001b[0m",
      "\u001b[0;31mKeyboardInterrupt\u001b[0m                         Traceback (most recent call last)",
      "\u001b[0;32m<ipython-input-8-7b715c6bbaa2>\u001b[0m in \u001b[0;36m<module>\u001b[0;34m()\u001b[0m\n\u001b[1;32m     13\u001b[0m \u001b[0msampler2\u001b[0m \u001b[0;34m=\u001b[0m \u001b[0memcee\u001b[0m\u001b[0;34m.\u001b[0m\u001b[0mEnsembleSampler\u001b[0m\u001b[0;34m(\u001b[0m\u001b[0mnwalkers\u001b[0m\u001b[0;34m,\u001b[0m \u001b[0mndim\u001b[0m\u001b[0;34m,\u001b[0m \u001b[0mlog_likelihood_straight_line2\u001b[0m\u001b[0;34m)\u001b[0m\u001b[0;34m\u001b[0m\u001b[0m\n\u001b[1;32m     14\u001b[0m \u001b[0;31m# run emcee for n steps\u001b[0m\u001b[0;34m\u001b[0m\u001b[0;34m\u001b[0m\u001b[0m\n\u001b[0;32m---> 15\u001b[0;31m \u001b[0msampler2\u001b[0m\u001b[0;34m.\u001b[0m\u001b[0mrun_mcmc\u001b[0m\u001b[0;34m(\u001b[0m\u001b[0mpos2\u001b[0m\u001b[0;34m,\u001b[0m \u001b[0mstepnum\u001b[0m\u001b[0;34m+\u001b[0m\u001b[0mburnin\u001b[0m\u001b[0;34m,\u001b[0m \u001b[0mprogress\u001b[0m\u001b[0;34m=\u001b[0m\u001b[0;32mTrue\u001b[0m\u001b[0;34m)\u001b[0m\u001b[0;34m\u001b[0m\u001b[0m\n\u001b[0m\u001b[1;32m     16\u001b[0m \u001b[0;31m# print the acceptance fraction to give us an idea whether it is working\u001b[0m\u001b[0;34m\u001b[0m\u001b[0;34m\u001b[0m\u001b[0m\n\u001b[1;32m     17\u001b[0m \u001b[0maf\u001b[0m \u001b[0;34m=\u001b[0m \u001b[0msampler2\u001b[0m\u001b[0;34m.\u001b[0m\u001b[0macceptance_fraction\u001b[0m\u001b[0;34m\u001b[0m\u001b[0m\n",
      "\u001b[0;32m/Users/sean/anaconda3/lib/python3.6/site-packages/emcee-3.0.0-py3.6.egg/emcee/ensemble.py\u001b[0m in \u001b[0;36mrun_mcmc\u001b[0;34m(self, initial_state, nsteps, **kwargs)\u001b[0m\n\u001b[1;32m    384\u001b[0m \u001b[0;34m\u001b[0m\u001b[0m\n\u001b[1;32m    385\u001b[0m         \u001b[0mresults\u001b[0m \u001b[0;34m=\u001b[0m \u001b[0;32mNone\u001b[0m\u001b[0;34m\u001b[0m\u001b[0m\n\u001b[0;32m--> 386\u001b[0;31m         \u001b[0;32mfor\u001b[0m \u001b[0mresults\u001b[0m \u001b[0;32min\u001b[0m \u001b[0mself\u001b[0m\u001b[0;34m.\u001b[0m\u001b[0msample\u001b[0m\u001b[0;34m(\u001b[0m\u001b[0minitial_state\u001b[0m\u001b[0;34m,\u001b[0m \u001b[0miterations\u001b[0m\u001b[0;34m=\u001b[0m\u001b[0mnsteps\u001b[0m\u001b[0;34m,\u001b[0m \u001b[0;34m**\u001b[0m\u001b[0mkwargs\u001b[0m\u001b[0;34m)\u001b[0m\u001b[0;34m:\u001b[0m\u001b[0;34m\u001b[0m\u001b[0m\n\u001b[0m\u001b[1;32m    387\u001b[0m             \u001b[0;32mpass\u001b[0m\u001b[0;34m\u001b[0m\u001b[0m\n\u001b[1;32m    388\u001b[0m \u001b[0;34m\u001b[0m\u001b[0m\n",
      "\u001b[0;32m/Users/sean/anaconda3/lib/python3.6/site-packages/emcee-3.0.0-py3.6.egg/emcee/ensemble.py\u001b[0m in \u001b[0;36msample\u001b[0;34m(self, initial_state, log_prob0, rstate0, blobs0, iterations, tune, skip_initial_state_check, thin_by, thin, store, progress)\u001b[0m\n\u001b[1;32m    343\u001b[0m \u001b[0;34m\u001b[0m\u001b[0m\n\u001b[1;32m    344\u001b[0m                     \u001b[0;31m# Propose\u001b[0m\u001b[0;34m\u001b[0m\u001b[0;34m\u001b[0m\u001b[0m\n\u001b[0;32m--> 345\u001b[0;31m                     \u001b[0mstate\u001b[0m\u001b[0;34m,\u001b[0m \u001b[0maccepted\u001b[0m \u001b[0;34m=\u001b[0m \u001b[0mmove\u001b[0m\u001b[0;34m.\u001b[0m\u001b[0mpropose\u001b[0m\u001b[0;34m(\u001b[0m\u001b[0mmodel\u001b[0m\u001b[0;34m,\u001b[0m \u001b[0mstate\u001b[0m\u001b[0;34m)\u001b[0m\u001b[0;34m\u001b[0m\u001b[0m\n\u001b[0m\u001b[1;32m    346\u001b[0m                     \u001b[0mstate\u001b[0m\u001b[0;34m.\u001b[0m\u001b[0mrandom_state\u001b[0m \u001b[0;34m=\u001b[0m \u001b[0mself\u001b[0m\u001b[0;34m.\u001b[0m\u001b[0mrandom_state\u001b[0m\u001b[0;34m\u001b[0m\u001b[0m\n\u001b[1;32m    347\u001b[0m \u001b[0;34m\u001b[0m\u001b[0m\n",
      "\u001b[0;32m/Users/sean/anaconda3/lib/python3.6/site-packages/emcee-3.0.0-py3.6.egg/emcee/moves/red_blue.py\u001b[0m in \u001b[0;36mpropose\u001b[0;34m(self, model, state)\u001b[0m\n\u001b[1;32m     99\u001b[0m                     \u001b[0maccepted\u001b[0m\u001b[0;34m[\u001b[0m\u001b[0mj\u001b[0m\u001b[0;34m]\u001b[0m \u001b[0;34m=\u001b[0m \u001b[0;32mTrue\u001b[0m\u001b[0;34m\u001b[0m\u001b[0m\n\u001b[1;32m    100\u001b[0m \u001b[0;34m\u001b[0m\u001b[0m\n\u001b[0;32m--> 101\u001b[0;31m             \u001b[0mnew_state\u001b[0m \u001b[0;34m=\u001b[0m \u001b[0mState\u001b[0m\u001b[0;34m(\u001b[0m\u001b[0mq\u001b[0m\u001b[0;34m,\u001b[0m \u001b[0mlog_prob\u001b[0m\u001b[0;34m=\u001b[0m\u001b[0mnew_log_probs\u001b[0m\u001b[0;34m,\u001b[0m \u001b[0mblobs\u001b[0m\u001b[0;34m=\u001b[0m\u001b[0mnew_blobs\u001b[0m\u001b[0;34m)\u001b[0m\u001b[0;34m\u001b[0m\u001b[0m\n\u001b[0m\u001b[1;32m    102\u001b[0m             \u001b[0mstate\u001b[0m \u001b[0;34m=\u001b[0m \u001b[0mself\u001b[0m\u001b[0;34m.\u001b[0m\u001b[0mupdate\u001b[0m\u001b[0;34m(\u001b[0m\u001b[0mstate\u001b[0m\u001b[0;34m,\u001b[0m \u001b[0mnew_state\u001b[0m\u001b[0;34m,\u001b[0m \u001b[0maccepted\u001b[0m\u001b[0;34m,\u001b[0m \u001b[0mS1\u001b[0m\u001b[0;34m)\u001b[0m\u001b[0;34m\u001b[0m\u001b[0m\n\u001b[1;32m    103\u001b[0m \u001b[0;34m\u001b[0m\u001b[0m\n",
      "\u001b[0;32m/Users/sean/anaconda3/lib/python3.6/site-packages/emcee-3.0.0-py3.6.egg/emcee/state.py\u001b[0m in \u001b[0;36m__init__\u001b[0;34m(self, coords, log_prob, blobs, random_state, copy)\u001b[0m\n\u001b[1;32m     43\u001b[0m         \u001b[0mself\u001b[0m\u001b[0;34m.\u001b[0m\u001b[0mlog_prob\u001b[0m \u001b[0;34m=\u001b[0m \u001b[0mdc\u001b[0m\u001b[0;34m(\u001b[0m\u001b[0mlog_prob\u001b[0m\u001b[0;34m)\u001b[0m\u001b[0;34m\u001b[0m\u001b[0m\n\u001b[1;32m     44\u001b[0m         \u001b[0mself\u001b[0m\u001b[0;34m.\u001b[0m\u001b[0mblobs\u001b[0m \u001b[0;34m=\u001b[0m \u001b[0mdc\u001b[0m\u001b[0;34m(\u001b[0m\u001b[0mblobs\u001b[0m\u001b[0;34m)\u001b[0m\u001b[0;34m\u001b[0m\u001b[0m\n\u001b[0;32m---> 45\u001b[0;31m         \u001b[0mself\u001b[0m\u001b[0;34m.\u001b[0m\u001b[0mrandom_state\u001b[0m \u001b[0;34m=\u001b[0m \u001b[0mdc\u001b[0m\u001b[0;34m(\u001b[0m\u001b[0mrandom_state\u001b[0m\u001b[0;34m)\u001b[0m\u001b[0;34m\u001b[0m\u001b[0m\n\u001b[0m\u001b[1;32m     46\u001b[0m \u001b[0;34m\u001b[0m\u001b[0m\n\u001b[1;32m     47\u001b[0m     \u001b[0;32mdef\u001b[0m \u001b[0m__repr__\u001b[0m\u001b[0;34m(\u001b[0m\u001b[0mself\u001b[0m\u001b[0;34m)\u001b[0m\u001b[0;34m:\u001b[0m\u001b[0;34m\u001b[0m\u001b[0m\n",
      "\u001b[0;31mKeyboardInterrupt\u001b[0m: "
     ]
    }
   ],
   "source": [
    "#-------------------------------------------------------------------------------\n",
    "# emcee inference for straight line (intrinsic scatter)\n",
    "#-------------------------------------------------------------------------------\n",
    "# set the number of dimensions (2 parameters) and number of walkers\n",
    "ndim, nwalkers = 3, 100\n",
    "# initial guess for the slope and y-intercept\n",
    "g2 = [m_guess, b_guess, logf_guess]\n",
    "# param labels to send to plot functions\n",
    "param_labels = ['m', 'b', 'ln(f)']\n",
    "# make a cluster of pts around the guesses for the walkers\n",
    "pos2 = [g2 + 1e-4*np.random.randn(ndim) for i in range(nwalkers)]\n",
    "# setup emcee to run with 'log_likelihood_straight_line2' function as the log likelihood\n",
    "sampler2 = emcee.EnsembleSampler(nwalkers, ndim, log_likelihood_straight_line2)\n",
    "# run emcee for n steps\n",
    "sampler2.run_mcmc(pos2, stepnum+burnin, progress=True)\n",
    "# print the acceptance fraction to give us an idea whether it is working\n",
    "af = sampler2.acceptance_fraction\n",
    "print(\"Mean acceptance fraction:\", np.mean(af))\n",
    "# take only values after the chain has converged\n",
    "samples2 = sampler2.chain[:, burnin:, :].reshape((-1, ndim)) # burn in??"
   ]
  },
  {
   "cell_type": "code",
   "execution_count": null,
   "metadata": {},
   "outputs": [],
   "source": [
    "# make a corner plot for chain after convergence\n",
    "plot_corner_full2(samples2, param_labels)"
   ]
  },
  {
   "cell_type": "code",
   "execution_count": null,
   "metadata": {},
   "outputs": [],
   "source": [
    "plot_results(samples2, x, y , xerr, yerr) # plot your results here"
   ]
  },
  {
   "cell_type": "code",
   "execution_count": null,
   "metadata": {},
   "outputs": [],
   "source": [
    "# use function to plot the chain for each parameter to see if/when it converged\n",
    "plot_samples_full(sampler2, ndim, param_labels)"
   ]
  },
  {
   "cell_type": "code",
   "execution_count": null,
   "metadata": {},
   "outputs": [],
   "source": [
    "    "
   ]
  },
  {
   "cell_type": "code",
   "execution_count": null,
   "metadata": {},
   "outputs": [],
   "source": []
  }
 ],
 "metadata": {
  "kernelspec": {
   "display_name": "Python 3",
   "language": "python",
   "name": "python3"
  },
  "language_info": {
   "codemirror_mode": {
    "name": "ipython",
    "version": 3
   },
   "file_extension": ".py",
   "mimetype": "text/x-python",
   "name": "python",
   "nbconvert_exporter": "python",
   "pygments_lexer": "ipython3",
   "version": "3.6.4"
  }
 },
 "nbformat": 4,
 "nbformat_minor": 2
}
