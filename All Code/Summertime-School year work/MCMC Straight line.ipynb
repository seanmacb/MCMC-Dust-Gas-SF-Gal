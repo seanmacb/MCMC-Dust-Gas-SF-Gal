{
 "cells": [
  {
   "cell_type": "code",
   "execution_count": 124,
   "metadata": {},
   "outputs": [],
   "source": [
    "import emcee\n",
    "import pandas as pd\n",
    "import numpy as np\n",
    "import matplotlib.pyplot as plt\n",
    "import corner\n",
    "BDecLabel = \"Log(H\\u03B1/H\\u03B2)\"\n",
    "LCO10Label = \"Log(L CO $_{1-0}$)\"\n",
    "LCO21Label = \"Log(L CO $_{2-1}$)\"\n",
    "MDustLabel = \"Log(M$_{Dust}$/M$_*$)\"\n",
    "MH2Label = \"Log(M H$_2$/M$_*$)\"\n",
    "StarMassLabel = \"Log(M$_{Star}$/M$_*$)\"\n",
    "SFRLabel = \"SFR\"\n",
    "GasFracLabel = \"GasFrac\""
   ]
  },
  {
   "cell_type": "markdown",
   "metadata": {},
   "source": [
    "## Here's the deal!\n",
    "\n",
    "MCMC Below is now working (dope!)\n",
    "\n",
    "That means don't mess with anything below the following 3 cells."
   ]
  },
  {
   "cell_type": "code",
   "execution_count": 150,
   "metadata": {},
   "outputs": [
    {
     "name": "stdout",
     "output_type": "stream",
     "text": [
      "112 Members in JINGLE\n",
      "136 Members in xCOLD\n",
      "['Unnamed: 0' 'Unnamed: 0.1' 'Unnamed: 0.1.1' 'Unnamed: 0.1.1.1' 'Z'\n",
      " 'Z err' 'H alpha flux' 'H alpha flux error' 'H beta flux'\n",
      " 'H beta flux error' 'BDec' 'BDec Err' 'objid' 'expAB_r' 'RA' 'DEC'\n",
      " 'StarMass' 'StarMass P16' 'StarMass P84' 'SFR' 'SFR P16' 'SFR P84'\n",
      " 'SFR err' 'SFR FLAG' 'SFR ENTROPY' 'GALAXY CLASS' '12+LOG OH'\n",
      " '12+LOG OH P16' '12+LOG OH P84' '12+LOG OH err' 'MDust_MCMC' 'MH2_MCMC'\n",
      " 'LCO_MCMC' 'GasFrac' 'NUMID' 'Inclination']\n"
     ]
    }
   ],
   "source": [
    "# file io for x and y here\n",
    "\n",
    "# M DUST\n",
    "dfJingle = pd.read_csv(\"filtJing.csv\")\n",
    "dfJingle = dfJingle.drop([40]) # removing one nan that wouldn't come out of the dataset for whatever reason\n",
    "delindex = []\n",
    "for i in range(len(dfJingle[\"N2HA\"])):\n",
    "    if np.asarray(dfJingle[\"AGNCLASS\"])[i]!=1:\n",
    "        delindex.append(i)\n",
    "        print(i)\n",
    "    elif np.asarray(dfJingle[\"Z\"])[i]>0.06:\n",
    "        print(i)\n",
    "dfJingle = dfJingle.drop(delindex) # removing non SFing galaxies\n",
    "print(str(len(dfJingle[\"AGNCLASS\"]))+\" Members in JINGLE\")\n",
    "\n",
    "\n",
    "# LCO and MH2\n",
    "dfXCold = pd.read_csv(\"xColdFilt.csv\")\n",
    "print(str(len(dfXCold[\"AGNCLASS\"]))+\" Members in xCOLD\")\n",
    "\n",
    "# STARMASS\n",
    "mpamaster = pd.read_csv(\"MPAMaster.csv\")\n",
    "# for i in range(len(mpamaster[\"GALAXY CLASS\"])):\n",
    "#     if mpamaster[\"GALAXY CLASS\"][i]!=1:\n",
    "#         print(mpamaster[\"GALAXY CLASS\"][i]) # This ensures no non-SFing galaxies\n",
    "\n",
    "# print(dfJingle.columns.values)\n",
    "# print(dfXCold.columns.values)\n",
    "print(mpamaster.columns.values)"
   ]
  },
  {
   "cell_type": "code",
   "execution_count": 144,
   "metadata": {},
   "outputs": [],
   "source": [
    "delindex = []\n",
    "for i in range(len(dfXCold)):\n",
    "    if dfXCold[\"LOGMH2\"][i]==0:\n",
    "        delindex.append(i)\n",
    "dfXCold = dfXCold.drop(delindex) # removing 0's in log MH2"
   ]
  },
  {
   "cell_type": "code",
   "execution_count": 158,
   "metadata": {},
   "outputs": [
    {
     "data": {
      "image/png": "[encoded data removed]",
      "text/plain": [
       "<Figure size 432x288 with 1 Axes>"
      ]
     },
     "metadata": {},
     "output_type": "display_data"
    }
   ],
   "source": [
    "x = np.asarray(mpamaster[\"BDec\"]) # set x variable here\n",
    "y = np.asarray(mpamaster[\"StarMass\"]) # set y variable here\n",
    "\n",
    "xerr = np.asarray(mpamaster[\"BDec Err\"]) # set x err here\n",
    "yerr = np.asarray(mpamaster[\"StarMass P16\"]+mpamaster[\"StarMass P84\"])/2 # set y err here\n",
    "yerr = 0\n",
    "\n",
    "\n",
    "xlab = BDecLabel # set x label here\n",
    "ylab = StarMassLabel # set y label here\n",
    "\n",
    "fname = \"BDECvsStarMass\"\n",
    "\n",
    "plt.scatter(x,y)\n",
    "plt.errorbar(x,y,xerr=xerr,yerr=yerr,linestyle=\"none\")\n",
    "plt.grid()\n",
    "plt.xlabel(xlab)\n",
    "plt.ylabel(ylab)\n",
    "plt.show()"
   ]
  },
  {
   "cell_type": "code",
   "execution_count": 163,
   "metadata": {},
   "outputs": [],
   "source": [
    "m_guess = 2 # make guesses here\n",
    "b_guess = 6\n",
    "logf_guess = 2.5\n",
    "stepnum = 10**6 # set stupnumber and burnin below\n",
    "burnin = int(0.05*stepnum)\n",
    "\n",
    "m_prior_range = [0,20] # set ranges here\n",
    "b_prior_range = [-5,10]\n",
    "lnf_prior_range = [-5,5]"
   ]
  },
  {
   "cell_type": "markdown",
   "metadata": {},
   "source": [
    "### Just run everything below here"
   ]
  },
  {
   "cell_type": "code",
   "execution_count": 164,
   "metadata": {},
   "outputs": [],
   "source": [
    "min_y = 0.9*min(y)\n",
    "max_y = 1.1*max(y)\n",
    "min_x = .9*min(x)\n",
    "max_x = 1.1*max(x)\n",
    "\n",
    "mctitle = xlab+\" vs. \"+ylab +\" MCMC fit with \"+str(stepnum)+\" steps\"\n",
    "\n",
    " \n",
    "def plot_samples_full(sampler, ndim, l): # plots the traceplot\n",
    "    fig, axes = plt.subplots(ndim, figsize=(10, 10), sharex=True)\n",
    "    samples = sampler.get_chain()\n",
    "    labels = l\n",
    "    for i in range(ndim):\n",
    "        ax = axes[i]\n",
    "        ax.plot(samples[:, :, i], \"k\", alpha=0.3)\n",
    "        ax.set_xlim(0, burnin+stepnum)\n",
    "#         ax.grid()\n",
    "        ax.axvline(burnin,ls=\"--\",c=\"black\")\n",
    "        ax.set_ylabel(labels[i])\n",
    "    axes[-1].set_xlabel(\"step number\");\n",
    "    plt.savefig(fname + '_chains.png', dpi=100)\n",
    "    plt.show()\n",
    "\n",
    "def plot_corner_full2(samples_input, labels): # plots the corner plot\n",
    "    fig, ax = plt.subplots(nrows = 3, ncols = 3, squeeze=False, figsize=(6,6))\n",
    "    corner.corner(samples_input,\n",
    "                  labels=labels,\n",
    "                  truths=(np.median(samples_input[:,0]),\n",
    "                  np.median(samples_input[:, 1]),\n",
    "                  np.median(np.log(samples_input[:, 2]))),\n",
    "                  truth_color=\"k\",\n",
    "                  quantiles=[0.16, 0.84], show_titles=True, title_kwargs={\"fontsize\": 12},fig=fig)\n",
    "    fig.set_size_inches(w=10,h=10)\n",
    "    plt.savefig(fname+\"_corner.png\", dpi=100)\n",
    "    plt.show()\n",
    "\n",
    "def plot_results(samples2, x, y , xerr, yerr): # plots the scatter plot with 100 random lines from the chain\n",
    "    fig, ax = plt.subplots(nrows = 1, ncols = 1, squeeze=False, figsize=(6,6))\n",
    "    # plot the data\n",
    "    ax[0,0].errorbar(x, y, xerr = xerr, yerr = yerr, fmt = 'o',c=\"red\")\n",
    "    x = np.linspace(min_x, max_x, 200)\n",
    "    # plot 100 random draws from the converged chain with intrinsic scatter\n",
    "    for params in samples2[np.random.randint(len(samples2), size=100)]:\n",
    "        h1, h2, lnh = params\n",
    "        ax[0,0].plot(x, h1*x + h2, color = 'b', alpha = 0.1)\n",
    "    plt.xlabel(xlab)\n",
    "    plt.ylabel(ylab)\n",
    "    plt.title(mctitle)\n",
    "    plt.grid()\n",
    "    plt.xlim(0.45,1.05)\n",
    "#     plt.legend()\n",
    "    fig.set_size_inches(w=10,h=10)\n",
    "    plt.savefig(fname+\".png\",dpi=100)\n",
    "    plt.show()\n",
    "\n",
    "# Stuff below here is straight line specific\n",
    "\n",
    "def straight_line(x, params):\n",
    "    m, b = params\n",
    "    return (m*x) + b\n",
    "\n",
    "\n",
    "def straight_line_params2(params):\n",
    "    m, b, lnf = params\n",
    "    # uniform flat priors on m and b between these ranges (can vary these)\n",
    "    if  m_prior_range[0] < m < m_prior_range[1] and b_prior_range[0] < b < b_prior_range[1] and lnf_prior_range[0] < lnf < lnf_prior_range[1]:\n",
    "        return 0\n",
    "    # if the params drawn outside the above ranges we make it very unlikely\n",
    "    return -np.inf\n",
    "\n",
    "def log_likelihood_straight_line2(params):\n",
    "    # log likelihood explained in: https://dfm.io/posts/fitting-a-plane/ (Eq 14-16)\n",
    "    m, b, lnf = params\n",
    "    params2 = m, b\n",
    "    model = straight_line(x, params2)\n",
    "    deltaN = y - model\n",
    "    sigma_sq = np.square(xerr*m) + np.square(yerr) + np.exp(2 * lnf)\n",
    "    log_likelihood = -0.5 * np.sum((np.square(deltaN)/sigma_sq) + np.log(sigma_sq))\n",
    "    #~~~~~~~~~~~~~~~~~~~~~~~~~~~~~~~~~~~~~~~~~~~~~~~~~~~~~~~~~~~~~~~~~~~~~~~~~~~\n",
    "    return log_likelihood + straight_line_params2(params)"
   ]
  },
  {
   "cell_type": "code",
   "execution_count": 165,
   "metadata": {},
   "outputs": [
    {
     "name": "stderr",
     "output_type": "stream",
     "text": [
      "/Users/sean/anaconda3/lib/python3.6/site-packages/emcee-3.0.0-py3.6.egg/emcee/ensemble.py:258: RuntimeWarning: Initial state is not linearly independent and it will not allow a full exploration of parameter space\n",
      "  category=RuntimeWarning,\n",
      "100%|██████████| 1050000/1050000 [3:59:40<00:00, 73.02it/s]    \n"
     ]
    },
    {
     "name": "stdout",
     "output_type": "stream",
     "text": [
      "Mean acceptance fraction: 0.6466952857142857\n"
     ]
    }
   ],
   "source": [
    "#-------------------------------------------------------------------------------\n",
    "# emcee inference for straight line (intrinsic scatter)\n",
    "#-------------------------------------------------------------------------------\n",
    "# set the number of dimensions (2 parameters) and number of walkers\n",
    "ndim, nwalkers = 3, 100\n",
    "# initial guess for the slope and y-intercept\n",
    "g2 = [m_guess, b_guess, logf_guess]\n",
    "# param labels to send to plot functions\n",
    "param_labels = ['m', 'b', 'lnf']\n",
    "# make a cluster of pts around the guesses for the walkers\n",
    "pos2 = [g2 + 1e-4*np.random.randn(ndim) for i in range(nwalkers)]\n",
    "# setup emcee to run with 'log_likelihood_straight_line2' function as the log likelihood\n",
    "sampler2 = emcee.EnsembleSampler(nwalkers, ndim, log_likelihood_straight_line2)\n",
    "# run emcee for n steps\n",
    "sampler2.run_mcmc(pos2, stepnum+burnin, progress=True)\n",
    "# print the acceptance fraction to give us an idea whether it is working\n",
    "af = sampler2.acceptance_fraction\n",
    "print(\"Mean acceptance fraction:\", np.mean(af))\n",
    "# take only values after the chain has converged\n",
    "samples2 = sampler2.chain[:, burnin:, :].reshape((-1, ndim)) # burn in??"
   ]
  },
  {
   "cell_type": "code",
   "execution_count": null,
   "metadata": {},
   "outputs": [
    {
     "data": {
      "image/png": "[encoded data removed]",
      "text/plain": [
       "<Figure size 720x720 with 3 Axes>"
      ]
     },
     "metadata": {},
     "output_type": "display_data"
    }
   ],
   "source": [
    "# use function to plot the chain for each parameter to see if/when it converged\n",
    "plot_samples_full(sampler2, ndim, param_labels)"
   ]
  },
  {
   "cell_type": "code",
   "execution_count": null,
   "metadata": {},
   "outputs": [
    {
     "name": "stderr",
     "output_type": "stream",
     "text": [
      "/Users/sean/anaconda3/lib/python3.6/site-packages/ipykernel_launcher.py:30: RuntimeWarning: invalid value encountered in log\n"
     ]
    }
   ],
   "source": [
    "# make a corner plot for chain after convergence\n",
    "plot_corner_full2(samples2, param_labels)"
   ]
  },
  {
   "cell_type": "code",
   "execution_count": null,
   "metadata": {},
   "outputs": [],
   "source": [
    "plot_results(samples2, x, y , xerr, yerr) # plot your results here"
   ]
  },
  {
   "cell_type": "code",
   "execution_count": null,
   "metadata": {},
   "outputs": [],
   "source": []
  },
  {
   "cell_type": "code",
   "execution_count": null,
   "metadata": {},
   "outputs": [],
   "source": []
  }
 ],
 "metadata": {
  "kernelspec": {
   "display_name": "Python 3",
   "language": "python",
   "name": "python3"
  },
  "language_info": {
   "codemirror_mode": {
    "name": "ipython",
    "version": 3
   },
   "file_extension": ".py",
   "mimetype": "text/x-python",
   "name": "python",
   "nbconvert_exporter": "python",
   "pygments_lexer": "ipython3",
   "version": "3.6.4"
  }
 },
 "nbformat": 4,
 "nbformat_minor": 2
}
