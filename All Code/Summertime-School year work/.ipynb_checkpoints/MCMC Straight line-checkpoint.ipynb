{
 "cells": [
  {
   "cell_type": "code",
   "execution_count": 1,
   "metadata": {},
   "outputs": [
    {
     "name": "stderr",
     "output_type": "stream",
     "text": [
      "/Users/sean/anaconda3/lib/python3.6/site-packages/h5py/__init__.py:36: FutureWarning: Conversion of the second argument of issubdtype from `float` to `np.floating` is deprecated. In future, it will be treated as `np.float64 == np.dtype(float).type`.\n",
      "  from ._conv import register_converters as _register_converters\n"
     ]
    }
   ],
   "source": [
    "import emcee\n",
    "import pandas as pd\n",
    "import numpy as np\n",
    "import matplotlib.pyplot as plt\n",
    "import corner"
   ]
  },
  {
   "cell_type": "markdown",
   "metadata": {},
   "source": [
    "## Here's the deal!\n",
    "\n",
    "MCMC Below is now working (dope!)\n",
    "\n",
    "That means don't mess with anything below the following 3 cells."
   ]
  },
  {
   "cell_type": "code",
   "execution_count": 23,
   "metadata": {},
   "outputs": [
    {
     "name": "stdout",
     "output_type": "stream",
     "text": [
      "['Unnamed: 0' 'SDSS9' 'JINGLEID' 'IDNUM' 'SDSSID' 'OBJID' 'SPECOBJID'\n",
      " 'PLATE' 'MJD' 'FIBERID' 'RA' 'DEC' 'Z' 'Z_ERR' 'DL' 'AGNCLASS' 'N2HA'\n",
      " 'O3HB' 'Z_PP04_N2' 'Z_PP04_O3N2' 'Z_MZR' 'LOGMSTAR' 'LOGMSTAR_MAGPHYS'\n",
      " 'LOGMSTAR_MAGPHYS_ERR' 'LOGMSTAR_GRASIL' 'LOGMSTAR_WISE'\n",
      " 'LOGMSTAR_WISE_ERR' 'LOGMSTAR_CHANG' 'LOGMSTAR_CHANG_ERR'\n",
      " 'LOGMSTAR_MPAJHU' 'LOGMSTAR_MPAJHU_ERR' 'LOGMSTAR_BC03'\n",
      " 'LOGMSTAR_BC03_ERR' 'LOGMUST' 'CINDEX' 'AXISRATIO' 'INCL' 'PETRORAD_KPC'\n",
      " 'PETROR50_KPC' 'RE_R' 'LOGSFR_MPAJHU' 'LOGSFR_MPAJHU_ERR' 'LOGSFR_CHANG'\n",
      " 'LOGSFR_CHANG_ERR' 'LOGSFR_IRNUV' 'LOGSFR_IRNUV_ERR' 'LOGSFR_IRFUV'\n",
      " 'LOGSFR_IRFUV_ERR' 'LOGSFR_MAGPHYS' 'LOGSFR_MAGPHYS_ERR' 'LOGSFR_GRASIL'\n",
      " 'LOGSFR_NUVCE01' 'LOGSFR_NUVCE01_ERR' 'LOGSFR_NUVJRM' 'LOGSFR_NUVJRM_ERR'\n",
      " 'LOGSFR_FUVCE01' 'LOGSFR_FUVCE01_ERR' 'LOGSFR_FUVJRM' 'LOGSFR_FUVJRM_ERR'\n",
      " 'AIRX' 'FUVK' 'LOGL12UM' 'LOGMHALO_TEMPEL14' 'GROUPRANK_TEMPEL14'\n",
      " 'GROUPCLASS' 'MORPH_ZOO' 'MORPH_JINGLE' 'MORPH_TEMPEL14' 'DETFLAG_850'\n",
      " 'F850' 'F850ERR' 'SN850' 'F850_CORR' 'F850ERR_CORR' 'LOGL850'\n",
      " 'LOGL850ERR' 'F850_BEAM' 'LOGL850_BEAM' 'LOGL850ERR_BEAM' 'SN850_BEAM'\n",
      " 'LOGLIR_GRASIL' 'LOGLIR_MAGPHYS' 'LOGMDUST_GRASIL' 'LOGMDUST_MAGPHYS'\n",
      " 'FLAG_RXA' 'CO_APCOR' 'RMS_CO21' 'ICO21' 'FLAG_CO' 'LOGLCO21'\n",
      " 'LOGLCO21_ERR' 'SNCO21' 'ALPHACO_A17' 'ALPHACO_MW' 'LOGMH2' 'LOGMH2_ERR'\n",
      " 'LOGMH2_PRED' 'FIRST_FLUX' 'FIRST_FLUX_ERR' 'HIREFERENCE' 'HIFLAG'\n",
      " 'LOGMHI' 'LOGMHIMS' 'BDec' 'BDecerr' 'HA SNR' 'HB SNR' 'logMDust'\n",
      " 'logMDust uperr' 'logMDust lowerr' 'MPA LBdec' 'MPA LBdec err']\n"
     ]
    }
   ],
   "source": [
    "# file io for x and y here\n",
    "\n",
    "# M DUST\n",
    "dfJingle = pd.read_csv(\"filtJing.csv\")\n",
    "dfJingle = dfJingle.drop([40]) # removing one nan that wouldn't come out of the dataset for whatever reason\n",
    "\n",
    "# LCO and MH2\n",
    "dfXCold = pd.read_csv(\"xColdFilt.csv\")\n",
    "\n",
    "\n",
    "print(dfJingle.columns.values)\n",
    "# print(dfXCold.columns.values)"
   ]
  },
  {
   "cell_type": "code",
   "execution_count": 70,
   "metadata": {},
   "outputs": [],
   "source": [
    "delindex = []\n",
    "for i in range(len(dfXCold)):\n",
    "    if dfXCold[\"LOGMH2\"][i]==0:\n",
    "        delindex.append(i)\n",
    "dfXCold = dfXCold.drop(delindex) # removing 0's in log MH2"
   ]
  },
  {
   "cell_type": "code",
   "execution_count": 74,
   "metadata": {},
   "outputs": [
    {
     "data": {
      "image/png": "[encoded data removed]",
      "text/plain": [
       "<Figure size 432x288 with 1 Axes>"
      ]
     },
     "metadata": {},
     "output_type": "display_data"
    }
   ],
   "source": [
    "x = np.asarray(dfXCold[\"BALMER\"]) # set x variable here\n",
    "y = np.asarray(dfXCold[\"LOGMH2\"]) # set y variable here\n",
    "\n",
    "xerr = np.asarray(dfXCold[\"BALMER_ERR\"]) # set x err here\n",
    "yerr = np.asarray(dfXCold[\"LOGMH2_ERR\"]) # set y err here\n",
    "\n",
    "xlab = \"Log(H\\u03B1/H\\u03B2)\" # set x label here\n",
    "ylab = \"Log(M H$_2$)\" # set y label here\n",
    "\n",
    "fname = \"BDECvsMH2\"\n",
    "\n",
    "plt.scatter(x,y)\n",
    "plt.errorbar(x,y,xerr=xerr,yerr=yerr,linestyle=\"none\")\n",
    "plt.grid()\n",
    "plt.xlabel(xlab)\n",
    "plt.ylabel(ylab)\n",
    "plt.show()"
   ]
  },
  {
   "cell_type": "code",
   "execution_count": 82,
   "metadata": {},
   "outputs": [],
   "source": [
    "m_guess = 2 # make guesses here\n",
    "b_guess = 6\n",
    "logf_guess = 2.5\n",
    "stepnum = 10**6 # set stupnumber and burnin below\n",
    "burnin = int(0.05*stepnum)\n",
    "\n",
    "m_prior_range = [-20,20] # set ranges here\n",
    "b_prior_range = [-20,20]\n",
    "lnf_prior_range = [-20,20]"
   ]
  },
  {
   "cell_type": "markdown",
   "metadata": {},
   "source": [
    "### Just run everything below here"
   ]
  },
  {
   "cell_type": "code",
   "execution_count": 83,
   "metadata": {},
   "outputs": [],
   "source": [
    "min_y = 0.95*min(y)\n",
    "max_y = 1.05*max(y)\n",
    "min_x = .95*min(x)\n",
    "max_x = 1.05*max(x)\n",
    "\n",
    "mctitle = xlab+\" vs. \"+ylab +\" MCMC fit with \"+str(stepnum)+\" steps\"\n",
    "\n",
    "def plot_samples_full(sampler, ndim, l): # done\n",
    "    fig, axes = plt.subplots(ndim, figsize=(10, 20), sharex=True)\n",
    "    samples = sampler.get_chain()\n",
    "    labels = l\n",
    "    for i in range(ndim):\n",
    "        ax = axes[i]\n",
    "        ax.plot(samples[:, :, i], \"k\", alpha=0.3)\n",
    "        ax.set_xlim(burnin, burnin+stepnum)\n",
    "        if i==0: # m\n",
    "            ax.set_ylim(3,9)\n",
    "        elif i==1: # b\n",
    "            ax.set_ylim(0,8)\n",
    "        else: # lnf\n",
    "            ax.set_ylim(-2,2)\n",
    "        ax.set_ylabel(labels[i])\n",
    "#         ax.yaxis.set_label_coords(-0.1, 0.5)\n",
    "    axes[-1].set_xlabel(\"step number\");\n",
    "#     plt.ylim()\n",
    "    plt.savefig(fname + '_chains.png', dpi=100)\n",
    "    plt.show()\n",
    "\n",
    "def plot_corner_full2(samples_input, labels): # done\n",
    "    samples_input[:, 2] = np.exp(samples_input[:, 2])\n",
    "    corner.corner(  samples_input,\n",
    "                    labels=labels,\n",
    "                    truths=(np.median(samples_input[:, 0]),\n",
    "                    np.median(samples_input[:, 1]),\n",
    "                    np.median(samples_input[:, 2])),\n",
    "                  truth_color=\"k\",\n",
    "                  quantiles=[0.16, 0.84], show_titles=True, title_kwargs={\"fontsize\": 12})\n",
    "    plt.savefig(fname+\"_corner.png\", dpi=300)\n",
    "    plt.show()\n",
    "\n",
    "def plot_results(samples2, x, y , xerr, yerr): # not done\n",
    "    fig, ax = plt.subplots(nrows = 1, ncols = 1, squeeze=False, figsize=(6,6))\n",
    "    # plot the data\n",
    "    ax[0,0].errorbar(x, y, xerr = xerr, yerr = yerr, fmt = 'o',c=\"red\")\n",
    "    x = np.linspace(min_x, max_x, 200)\n",
    "    # plot 100 random draws from the converged chain with no intrinsic scatter\n",
    "    for params in samples2[np.random.randint(len(samples2), size=100)]:\n",
    "        h1, h2, lnh = params\n",
    "        ax[0,0].plot(x, h1*x + h2, color = 'b', alpha = 0.1)\n",
    "    plt.xlabel(xlab)\n",
    "    plt.ylabel(ylab)\n",
    "    plt.title(mctitle)\n",
    "    plt.grid()\n",
    "    plt.xlim(0.4,0.95)\n",
    "#     plt.legend()\n",
    "    plt.savefig(fname+\".png\",dpi=300)\n",
    "    plt.show()\n",
    "    \n",
    "# Stuff below here is straight line specific\n",
    "\n",
    "def straight_line(x, params):\n",
    "    m, b = params\n",
    "    return (m*x) + b\n",
    "\n",
    "\n",
    "def straight_line_params2(params):\n",
    "    m, b, lnf = params\n",
    "    # uniform flat priors on m and b between these ranges (can vary these)\n",
    "    if  m_prior_range[0] < m < m_prior_range[1] and b_prior_range[0] < b < b_prior_range[1] and lnf_prior_range[0] < lnf < lnf_prior_range[1]:\n",
    "        return 0\n",
    "    # if the params drawn outside the above ranges we make it very unlikely\n",
    "    return -np.inf\n",
    "\n",
    "def log_likelihood_straight_line2(params):\n",
    "    # log likelihood explained in: https://dfm.io/posts/fitting-a-plane/ (Eq 14-16)\n",
    "    m, b, lnf = params\n",
    "    params2 = m, b\n",
    "    model = straight_line(x, params2)\n",
    "    deltaN = y - model\n",
    "    sigma_sq = np.square(xerr*m) + np.square(yerr) + np.exp(2 * lnf)\n",
    "    log_likelihood = -0.5 * np.sum((np.square(deltaN)/sigma_sq) + np.log(sigma_sq))\n",
    "    #~~~~~~~~~~~~~~~~~~~~~~~~~~~~~~~~~~~~~~~~~~~~~~~~~~~~~~~~~~~~~~~~~~~~~~~~~~~\n",
    "    return log_likelihood + straight_line_params2(params)"
   ]
  },
  {
   "cell_type": "code",
   "execution_count": null,
   "metadata": {},
   "outputs": [
    {
     "name": "stderr",
     "output_type": "stream",
     "text": [
      "/Users/sean/anaconda3/lib/python3.6/site-packages/emcee-3.0.0-py3.6.egg/emcee/ensemble.py:258: RuntimeWarning: Initial state is not linearly independent and it will not allow a full exploration of parameter space\n",
      "  category=RuntimeWarning,\n",
      "  5%|▌         | 57104/1050000 [03:43<1:09:23, 238.46it/s]"
     ]
    }
   ],
   "source": [
    "#-------------------------------------------------------------------------------\n",
    "# emcee inference for straight line (intrinsic scatter)\n",
    "#-------------------------------------------------------------------------------\n",
    "# set the number of dimensions (2 parameters) and number of walkers\n",
    "ndim, nwalkers = 3, 100\n",
    "# initial guess for the slope and y-intercept\n",
    "g2 = [m_guess, b_guess, logf_guess]\n",
    "# param labels to send to plot functions\n",
    "param_labels = ['m', 'b', 'lnf']\n",
    "# make a cluster of pts around the guesses for the walkers\n",
    "pos2 = [g2 + 1e-4*np.random.randn(ndim) for i in range(nwalkers)]\n",
    "# setup emcee to run with 'log_likelihood_straight_line2' function as the log likelihood\n",
    "sampler2 = emcee.EnsembleSampler(nwalkers, ndim, log_likelihood_straight_line2)\n",
    "# run emcee for n steps\n",
    "sampler2.run_mcmc(pos2, stepnum+burnin, progress=True)\n",
    "# print the acceptance fraction to give us an idea whether it is working\n",
    "af = sampler2.acceptance_fraction\n",
    "print(\"Mean acceptance fraction:\", np.mean(af))\n",
    "# take only values after the chain has converged\n",
    "samples2 = sampler2.chain[:, burnin:, :].reshape((-1, ndim)) # burn in??"
   ]
  },
  {
   "cell_type": "code",
   "execution_count": null,
   "metadata": {},
   "outputs": [],
   "source": [
    "# use function to plot the chain for each parameter to see if/when it converged\n",
    "plot_samples_full(sampler2, ndim, param_labels)"
   ]
  },
  {
   "cell_type": "code",
   "execution_count": null,
   "metadata": {},
   "outputs": [],
   "source": [
    "# make a corner plot for chain after convergence\n",
    "plot_corner_full2(samples2, param_labels)"
   ]
  },
  {
   "cell_type": "code",
   "execution_count": null,
   "metadata": {},
   "outputs": [],
   "source": [
    "plot_results(samples2, x, y , xerr, yerr) # plot your results here"
   ]
  },
  {
   "cell_type": "code",
   "execution_count": 81,
   "metadata": {},
   "outputs": [],
   "source": [
    "# print(x,y,xerr,yerr)"
   ]
  },
  {
   "cell_type": "code",
   "execution_count": 19,
   "metadata": {},
   "outputs": [
    {
     "name": "stdout",
     "output_type": "stream",
     "text": [
      "nan\n"
     ]
    }
   ],
   "source": []
  },
  {
   "cell_type": "code",
   "execution_count": null,
   "metadata": {},
   "outputs": [],
   "source": []
  }
 ],
 "metadata": {
  "kernelspec": {
   "display_name": "Python 3",
   "language": "python",
   "name": "python3"
  },
  "language_info": {
   "codemirror_mode": {
    "name": "ipython",
    "version": 3
   },
   "file_extension": ".py",
   "mimetype": "text/x-python",
   "name": "python",
   "nbconvert_exporter": "python",
   "pygments_lexer": "ipython3",
   "version": "3.6.4"
  }
 },
 "nbformat": 4,
 "nbformat_minor": 2
}
